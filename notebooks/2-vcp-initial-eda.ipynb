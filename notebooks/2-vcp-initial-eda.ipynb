{
 "cells": [
  {
   "cell_type": "code",
   "execution_count": null,
   "metadata": {},
   "outputs": [],
   "source": []
  },
  {
   "cell_type": "markdown",
   "metadata": {},
   "source": [
    "# Exploring the Data"
   ]
  },
  {
   "cell_type": "markdown",
   "metadata": {},
   "source": [
    "## Table of Contents\n",
    "* [Loading the Data](#loading_data)\n",
    "* [Data Profiling](#data_profiling)\n",
    "* [Missing values](#missing)\n",
    "* [Outliers](#outliers)\n",
    "* [Correlations](#corr)\n",
    "* [Transformations identification](#transformations)\n",
    "* [Exploring external data](#extra-data)"
   ]
  },
  {
   "cell_type": "code",
   "execution_count": null,
   "metadata": {},
   "outputs": [],
   "source": [
    "# Libraries\n",
    "\n",
    "%load_ext autoreload\n",
    "%autoreload 2\n",
    "%matplotlib inline\n",
    "\n",
    "import os\n",
    "import pandas as pd\n",
    "import numpy as np\n",
    "import datetime as dt\n",
    "import gc\n",
    "import missingno as msno\n",
    "import pandas_profiling\n",
    "import statsmodels as sm\n",
    "from statsmodels.tsa.seasonal import seasonal_decompose\n",
    "import random\n",
    "import re\n",
    "\n",
    "from wind_power_forecasting.nodes import data_exploration as dexp\n",
    "from wind_power_forecasting.nodes import data_transformation as dtr\n",
    "\n",
    "#visualization\n",
    "import matplotlib.pyplot as plt\n",
    "import seaborn as sns\n",
    "import plotly as pty\n",
    "\n",
    "import plotly.graph_objs as go\n",
    "from plotly.subplots import make_subplots\n",
    "from plotly.offline import download_plotlyjs, init_notebook_mode, plot, iplot\n",
    "import cufflinks as cf\n",
    "cf.set_config_file(offline=True)\n",
    "\n",
    "# Ignore warnings (SciPy issue #5998)\n",
    "import warnings\n",
    "warnings.filterwarnings(action=\"ignore\", message=\"^internal gelsd\")"
   ]
  },
  {
   "cell_type": "markdown",
   "metadata": {},
   "source": [
    "## Loading the data\n",
    "<a id=\"getting_data\"></a>"
   ]
  },
  {
   "cell_type": "code",
   "execution_count": null,
   "metadata": {},
   "outputs": [],
   "source": [
    "# Raw data for WF1\n",
    "X_train = context.catalog.load(\"X_train_raw\")\n",
    "y_train = context.catalog.load(\"y_train_raw\")\n",
    "X_test = context.catalog.load(\"X_test_raw\")\n",
    "\n",
    "# Data set for EDA\n",
    "eda_df = context.catalog.load(\"df_WF1\")"
   ]
  },
  {
   "cell_type": "markdown",
   "metadata": {},
   "source": [
    "## Data Profiling\n",
    "<a id=\"data_profiling\"></a>\n",
    "\n",
    "Data profile by `NWP`:"
   ]
  },
  {
   "cell_type": "code",
   "execution_count": null,
   "metadata": {},
   "outputs": [],
   "source": [
    "import pandas_profiling\n",
    "\n",
    "nwps = list(eda_df['NWP'].unique())\n",
    "profiles = dexp.get_report_by_NWP(eda_df, nwps )"
   ]
  },
  {
   "cell_type": "code",
   "execution_count": null,
   "metadata": {},
   "outputs": [],
   "source": [
    "# export data profiles to html\n",
    "REPORTS_LOC = \"../../reports/WF1/\"\n",
    "dexp.export_reports('WF1', profiles, REPORTS_LOC)"
   ]
  },
  {
   "cell_type": "markdown",
   "metadata": {},
   "source": [
    "## Missing values\n",
    "<a id=\"missing\"></a>"
   ]
  },
  {
   "cell_type": "code",
   "execution_count": null,
   "metadata": {},
   "outputs": [],
   "source": [
    "missing_vals = dexp.get_missing_percentage(\n",
    "    eda_df.set_index( ['NWP', 'fc_day', 'run']),\n",
    "    ['NWP', 'fc_day', 'run']\n",
    ")\n",
    "\n",
    "missing_vals.head()"
   ]
  },
  {
   "cell_type": "code",
   "execution_count": null,
   "metadata": {},
   "outputs": [],
   "source": [
    "eda_df_rced = eda_df[(eda_df.fc_day == 'D') & (eda_df.run == '00h')]"
   ]
  },
  {
   "cell_type": "markdown",
   "metadata": {},
   "source": [
    "## Outliers\n",
    "<a id=\"outliers\"></a>"
   ]
  },
  {
   "cell_type": "code",
   "execution_count": null,
   "metadata": {
    "scrolled": false
   },
   "outputs": [],
   "source": [
    "# box-plots\n",
    "\n",
    "for nwp in [1,2,3,4]:\n",
    "    eda_df_rced.loc[\n",
    "        eda_df_rced['NWP'] == nwp, \n",
    "        [\n",
    "            'U',\n",
    "            'V',\n",
    "            'T',\n",
    "            'CLCT',\n",
    "            'production'\n",
    "        ]\n",
    "    ].iplot(\n",
    "        subplots=True, \n",
    "        shape=(2,3),\n",
    "        kind='box', \n",
    "        boxpoints='outliers',\n",
    "        filename='cufflinks/box-plots'\n",
    "    )"
   ]
  },
  {
   "cell_type": "markdown",
   "metadata": {},
   "source": [
    "Variables which may have some outliers are:\n",
    "* `U` and `V`\n",
    "* `Production`\n",
    "\n",
    "Temperature and Cloud Coverage don't have any anomaly value, according to their box-plots."
   ]
  },
  {
   "cell_type": "code",
   "execution_count": null,
   "metadata": {
    "scrolled": false
   },
   "outputs": [],
   "source": [
    "# Time series visualization\n",
    "for nwp in [1,2,3,4]:\n",
    "    eda_df_rced.loc[\n",
    "        eda_df_rced['NWP'] == nwp, ['time','U','V','T','CLCT','production']].set_index('time').iplot(\n",
    "        kind='scatter', \n",
    "        filename='cufflinks/cf-simple-line'\n",
    "    )"
   ]
  },
  {
   "cell_type": "markdown",
   "metadata": {},
   "source": [
    "## Correlations\n",
    "<a id=\"corr\"></a>\n",
    "\n",
    "Let's have a look at the linear correlations between predictors and the target attribute."
   ]
  },
  {
   "cell_type": "code",
   "execution_count": null,
   "metadata": {
    "scrolled": false
   },
   "outputs": [],
   "source": [
    "sns.pairplot(\n",
    "    eda_df_rced,\n",
    "    vars = ['U','V','T','CLCT','production'],\n",
    "    diag_kind='kde'\n",
    ")"
   ]
  },
  {
   "cell_type": "code",
   "execution_count": null,
   "metadata": {},
   "outputs": [],
   "source": [
    "eda_df.corr().iplot(\n",
    "    kind='heatmap', \n",
    "    colorscale='spectral',\n",
    "    filename='cufflinks/simple-heatmap'\n",
    ")"
   ]
  },
  {
   "cell_type": "markdown",
   "metadata": {},
   "source": [
    "## Transformations identification\n",
    "<a id=\"transformations\"></a>\n",
    "\n",
    "Several transformation identification:\n",
    "* Input missing values\n",
    "* Create new features:\n",
    "    - Wind velocity module (`w_vel`)\n",
    "    - Wind direction (`w_dir`)\n",
    "    - Wind velocity escaled to heigth of the turbine . We can calculate it by using \n",
    "    \n",
    "        $$u(z) = u(z_0)\\left(\\frac{z}{z_0}\\right)^{\\alpha},$$ \n",
    "      \n",
    "      with $\\alpha = 1/7$, $z_0 = 100$ or $10$ meters, depending on the Wild Farm, and $z = 50$ m, the height of the turbines.\n",
    "    - New features with the mean values of meteorological variables for every Numerical Weather Predictor (`U`, `V`, `T`, `CLCT`)\n",
    "    - Date time future enconding to capture seasonality (`month`, `day_of_month`, `hour`)\n",
    "    - Binning 'CLCT' due to its bimodal distribution (depends on local weather, i.e., on each Wind Farm).\n",
    "    - Cyclical enconding for wind direction and date time features.\n",
    "* Convert temperature units to $^\\text{o}$C.\n",
    "* Stardard Scaling of variables\n",
    "* Outlier treatment (to define, using the extra data in order to identify anomalies).\n",
    "* Feature selection"
   ]
  }
 ],
 "metadata": {
  "kernelspec": {
   "display_name": "WindPowerForecasting",
   "language": "python",
   "name": "python3"
  },
  "language_info": {
   "codemirror_mode": {
    "name": "ipython",
    "version": 3
   },
   "file_extension": ".py",
   "mimetype": "text/x-python",
   "name": "python",
   "nbconvert_exporter": "python",
   "pygments_lexer": "ipython3",
   "version": "3.7.8"
  }
 },
 "nbformat": 4,
 "nbformat_minor": 4
}
